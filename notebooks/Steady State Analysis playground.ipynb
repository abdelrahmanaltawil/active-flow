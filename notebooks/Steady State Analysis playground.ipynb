{
 "cells": [
  {
   "cell_type": "markdown",
   "metadata": {},
   "source": [
    "# Steady State Analysis Workflow PlayGround\n",
    "This is the notebook for test and experiment functions behavior that belong the steady state analysis workflow"
   ]
  },
  {
   "attachments": {},
   "cell_type": "markdown",
   "metadata": {},
   "source": [
    "## Sorting Snapshots in python `dict`\n",
    "We need to sort snapshots \"aka items\" in python dictionary such that the results in the read as following\n",
    "```python\n",
    "snapshots =  {\n",
    "    \"iteration = 00000000\" : np.ndarray,\n",
    "    \"iteration = 00010000\" : np.ndarray,\n",
    "    \"iteration = 00300000\" : np.ndarray,\n",
    "    \"iteration = 09000000\" : np.ndarray,\n",
    "              .\n",
    "              .\n",
    "              .\n",
    "}\n",
    "```"
   ]
  },
  {
   "cell_type": "code",
   "execution_count": 2,
   "metadata": {},
   "outputs": [],
   "source": [
    "import json"
   ]
  },
  {
   "cell_type": "code",
   "execution_count": 3,
   "metadata": {},
   "outputs": [
    {
     "name": "stdout",
     "output_type": "stream",
     "text": [
      "Unordered Snapshots =  {\n",
      "    \"iteration = 90000000\": null,\n",
      "    \"iteration = 00000000\": null,\n",
      "    \"iteration = 00300000\": null,\n",
      "    \"iteration = 00000020\": null\n",
      "}\n",
      "Ordered Snapshots =  {\n",
      "    \"iteration = 00000000\": null,\n",
      "    \"iteration = 00000020\": null,\n",
      "    \"iteration = 00300000\": null,\n",
      "    \"iteration = 90000000\": null\n",
      "}\n"
     ]
    }
   ],
   "source": [
    "unordered_snapshots = {\n",
    "    \"iteration = 90000000\" : None,\n",
    "    \"iteration = 00000000\" : None,\n",
    "    \"iteration = 00300000\" : None,\n",
    "    \"iteration = 00000020\" : None,\n",
    "}\n",
    "\n",
    "# unordered\n",
    "print(\"Unordered Snapshots = \", json.dumps(unordered_snapshots, indent=4))\n",
    "\n",
    "# ordered\n",
    "print(\"Ordered Snapshots = \",json.dumps(unordered_snapshots, sort_keys=True, indent=4))"
   ]
  }
 ],
 "metadata": {
  "kernelspec": {
   "display_name": "venv",
   "language": "python",
   "name": "python3"
  },
  "language_info": {
   "codemirror_mode": {
    "name": "ipython",
    "version": 3
   },
   "file_extension": ".py",
   "mimetype": "text/x-python",
   "name": "python",
   "nbconvert_exporter": "python",
   "pygments_lexer": "ipython3",
   "version": "3.9.6 (default, Oct 18 2022, 12:41:40) \n[Clang 14.0.0 (clang-1400.0.29.202)]"
  },
  "orig_nbformat": 4,
  "vscode": {
   "interpreter": {
    "hash": "ffe6bde3fe3c7c087b4ceae03b900f02918ece552f3a10934f4fccf59069cc88"
   }
  }
 },
 "nbformat": 4,
 "nbformat_minor": 2
}
