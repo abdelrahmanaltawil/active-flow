{
 "cells": [
  {
   "cell_type": "markdown",
   "metadata": {},
   "source": [
    "# Steady State Analysis Workflow PlayGround\n",
    "This is the notebook for test and experiment functions behavior that belong the steady state analysis workflow"
   ]
  }
 ],
 "metadata": {
  "kernelspec": {
   "display_name": "Python 3.9.6 ('venv': venv)",
   "language": "python",
   "name": "python3"
  },
  "language_info": {
   "name": "python",
   "version": "3.9.6"
  },
  "orig_nbformat": 4,
  "vscode": {
   "interpreter": {
    "hash": "54c05692194a99d1efe4c215b3bef075812d1712b0b2abaa3130b22b56f83889"
   }
  }
 },
 "nbformat": 4,
 "nbformat_minor": 2
}
